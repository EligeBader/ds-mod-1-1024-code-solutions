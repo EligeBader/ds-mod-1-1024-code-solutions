{
 "cells": [
  {
   "cell_type": "code",
   "execution_count": 1,
   "metadata": {},
   "outputs": [],
   "source": [
    "import pandas as pd\n",
    "import numpy as np\n",
    "import pickle\n",
    "from pathlib import Path\n",
    "import dill\n",
    "from sklearn.impute import SimpleImputer\n",
    "from sklearn.preprocessing import TargetEncoder\n",
    "import os"
   ]
  },
  {
   "cell_type": "code",
   "execution_count": 2,
   "metadata": {},
   "outputs": [],
   "source": [
    "with open('read_file.pickle', 'rb') as f: \n",
    "    load_data = dill.load(f)\n",
    "\n",
    "\n",
    "df_test = load_data('test.csv')"
   ]
  },
  {
   "cell_type": "code",
   "execution_count": 3,
   "metadata": {},
   "outputs": [],
   "source": [
    "with open('clean_data.pickle', 'rb') as f:\n",
    "    clean_data = dill.load(f)\n",
    "\n",
    "df_test = clean_data(df_test)"
   ]
  },
  {
   "cell_type": "code",
   "execution_count": 4,
   "metadata": {},
   "outputs": [
    {
     "data": {
      "text/plain": [
       "np.int64(0)"
      ]
     },
     "execution_count": 4,
     "metadata": {},
     "output_type": "execute_result"
    }
   ],
   "source": [
    "df_test.isna().sum().sum()"
   ]
  },
  {
   "cell_type": "code",
   "execution_count": 5,
   "metadata": {},
   "outputs": [],
   "source": [
    "with open('encode_data.pickle', 'rb') as f:\n",
    "    encode_data = dill.load(f)\n",
    "\n",
    "\n",
    "# Get only categorical features:\n",
    "categorical_cols = df_test.select_dtypes(include=['object']).columns.tolist()\n",
    "\n",
    "df_test = encode_data(df_test, 'SalePrice', categorical_cols, train=False)\n"
   ]
  },
  {
   "cell_type": "code",
   "execution_count": 8,
   "metadata": {},
   "outputs": [],
   "source": [
    "with open('predict_model.pickle', 'rb') as f:\n",
    "    pred = dill.load(f)\n",
    "\n",
    "with open('trained_model.pickle', 'rb') as f: \n",
    "    model = dill.load(f)\n",
    "\n",
    "y_new_pred = pred(df_test, model, features = ['Id'])"
   ]
  },
  {
   "cell_type": "code",
   "execution_count": 9,
   "metadata": {},
   "outputs": [
    {
     "data": {
      "text/plain": [
       "array([116399.07410631, 137060.79750037, 165400.4519401 , ...,\n",
       "       174601.25179703, 113716.79139851, 241043.26545738])"
      ]
     },
     "execution_count": 9,
     "metadata": {},
     "output_type": "execute_result"
    }
   ],
   "source": [
    "y_new_pred"
   ]
  }
 ],
 "metadata": {
  "kernelspec": {
   "display_name": "Python 3",
   "language": "python",
   "name": "python3"
  },
  "language_info": {
   "codemirror_mode": {
    "name": "ipython",
    "version": 3
   },
   "file_extension": ".py",
   "mimetype": "text/x-python",
   "name": "python",
   "nbconvert_exporter": "python",
   "pygments_lexer": "ipython3",
   "version": "3.13.0"
  }
 },
 "nbformat": 4,
 "nbformat_minor": 2
}
